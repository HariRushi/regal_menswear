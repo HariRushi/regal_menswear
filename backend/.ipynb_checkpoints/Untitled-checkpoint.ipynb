{
 "cells": [
  {
   "cell_type": "code",
   "execution_count": 1,
   "id": "40109221",
   "metadata": {},
   "outputs": [
    {
     "name": "stdout",
     "output_type": "stream",
     "text": [
      "Requirement already satisfied: uvicorn in c:\\users\\harir\\appdata\\local\\programs\\python\\python311\\lib\\site-packages (0.29.0)\n",
      "Requirement already satisfied: click>=7.0 in c:\\users\\harir\\appdata\\local\\programs\\python\\python311\\lib\\site-packages (from uvicorn) (8.1.7)\n",
      "Requirement already satisfied: h11>=0.8 in c:\\users\\harir\\appdata\\local\\programs\\python\\python311\\lib\\site-packages (from uvicorn) (0.14.0)\n",
      "Requirement already satisfied: colorama in c:\\users\\harir\\appdata\\local\\programs\\python\\python311\\lib\\site-packages (from click>=7.0->uvicorn) (0.4.6)\n",
      "Note: you may need to restart the kernel to use updated packages.\n"
     ]
    },
    {
     "name": "stderr",
     "output_type": "stream",
     "text": [
      "\n",
      "[notice] A new release of pip is available: 23.3 -> 24.0\n",
      "[notice] To update, run: C:\\Users\\harir\\AppData\\Local\\Programs\\Python\\Python311\\python.exe -m pip install --upgrade pip\n"
     ]
    }
   ],
   "source": [
    "pip install uvicorn"
   ]
  },
  {
   "cell_type": "code",
   "execution_count": 5,
   "id": "227417c9",
   "metadata": {},
   "outputs": [
    {
     "name": "stderr",
     "output_type": "stream",
     "text": [
      "INFO:     Started server process [43584]\n",
      "INFO:     Waiting for application startup.\n",
      "INFO:     Application startup complete.\n",
      "INFO:     Uvicorn running on http://127.0.0.1:8000 (Press CTRL+C to quit)\n"
     ]
    },
    {
     "name": "stdout",
     "output_type": "stream",
     "text": [
      "INFO:     127.0.0.1:61752 - \"GET /products HTTP/1.1\" 200 OK\n",
      "INFO:     127.0.0.1:61753 - \"GET /new_arrivals HTTP/1.1\" 200 OK\n",
      "INFO:     127.0.0.1:61752 - \"GET /products HTTP/1.1\" 200 OK\n",
      "INFO:     127.0.0.1:61754 - \"GET /new_arrivals HTTP/1.1\" 200 OK\n",
      "INFO:     127.0.0.1:61754 - \"GET /products HTTP/1.1\" 200 OK\n",
      "INFO:     127.0.0.1:61752 - \"GET /new_arrivals HTTP/1.1\" 200 OK\n",
      "INFO:     127.0.0.1:61753 - \"GET /products HTTP/1.1\" 200 OK\n",
      "INFO:     127.0.0.1:61755 - \"GET /new_arrivals HTTP/1.1\" 200 OK\n",
      "INFO:     127.0.0.1:61772 - \"GET /products HTTP/1.1\" 200 OK\n",
      "INFO:     127.0.0.1:61773 - \"GET /new_arrivals HTTP/1.1\" 200 OK\n",
      "INFO:     127.0.0.1:61774 - \"GET /products HTTP/1.1\" 200 OK\n",
      "INFO:     127.0.0.1:61775 - \"GET /new_arrivals HTTP/1.1\" 200 OK\n",
      "INFO:     127.0.0.1:61787 - \"GET /products HTTP/1.1\" 200 OK\n",
      "INFO:     127.0.0.1:61894 - \"GET /products HTTP/1.1\" 200 OK\n",
      "INFO:     127.0.0.1:61895 - \"GET /new_arrivals HTTP/1.1\" 200 OK\n",
      "INFO:     127.0.0.1:61895 - \"GET /products HTTP/1.1\" 200 OK\n",
      "INFO:     127.0.0.1:61894 - \"GET /new_arrivals HTTP/1.1\" 200 OK\n"
     ]
    },
    {
     "name": "stderr",
     "output_type": "stream",
     "text": [
      "INFO:     Shutting down\n",
      "INFO:     Waiting for application shutdown.\n",
      "INFO:     Application shutdown complete.\n",
      "INFO:     Finished server process [43584]\n"
     ]
    }
   ],
   "source": [
    "from typing import List\n",
    "from pydantic import BaseModel\n",
    "from fastapi import FastAPI, Query\n",
    "from fastapi.staticfiles import StaticFiles\n",
    "from fastapi.middleware.cors import CORSMiddleware\n",
    "import uvicorn\n",
    "import asyncio\n",
    "import logging\n",
    "\n",
    "\n",
    "origins = [\n",
    "    \"http://localhost\",\n",
    "    \"http://localhost:8080\",\n",
    "    \"http://localhost:3000\",\n",
    "    \"http://127.0.0.1:3000\",\n",
    "]\n",
    "\n",
    "\n",
    "\n",
    "app = FastAPI()\n",
    "\n",
    "app.add_middleware(\n",
    "    CORSMiddleware,\n",
    "    allow_origins=origins,\n",
    "    allow_credentials=True,\n",
    "    allow_methods=[\"*\"],\n",
    "    allow_headers=[\"*\"],\n",
    ")\n",
    "\n",
    "# Define the Product model\n",
    "class Product(BaseModel):\n",
    "    id: int\n",
    "    name: str\n",
    "    image: str = \"http://127.0.0.1:8000/static/logo.jpeg\"\n",
    "    description: str = None\n",
    "    category: str\n",
    "    color: str\n",
    "    \n",
    "\n",
    "# List of products\n",
    "products = [\n",
    "    {\"id\": 1, \"name\": \"Dress Suit\", \"image\": \"http://127.0.0.1:8000/static/logo.jpeg\", \"description\": \"Description of Product 1\", \"category\" : \"Dress Suit\", \"color\":\"White\"},\n",
    "    {\"id\": 2, \"name\": \"Dress Suit\", \"image\": \"http://127.0.0.1:8000/static/logo.jpeg\", \"description\": \"Description of Product 2\", \"category\" : \"Dress Suit\", \"color\":\"Green\"},\n",
    "    {\"id\": 3, \"name\": \"Dress Suit\", \"image\": \"http://127.0.0.1:8000/static/logo.jpeg\", \"description\": \"Description of Product 3\", \"category\" : \"Dress Suit\", \"color\":\"Blue\"},\n",
    "    {\"id\": 4, \"name\": \"Tuxedo\", \"image\": \"http://127.0.0.1:8000/static/logo.jpeg\", \"description\": \"Description of Product 4\", \"category\" : \"Tuxedo\",\"color\":\"White\"},\n",
    "    {\"id\": 5, \"name\": \"Tuxedo\", \"image\": \"http://127.0.0.1:8000/static/logo.jpeg\", \"description\": \"Description of Product 5\", \"category\" : \"Tuxedo\",\"color\":\"White\"},\n",
    "    {\"id\": 6, \"name\": \"Tuxedo\", \"image\": \"http://127.0.0.1:8000/static/logo.jpeg\", \"description\": \"Description of Product 6\", \"category\" : \"Tuxedo\",\"color\":\"White\"},\n",
    "    {\"id\": 7, \"name\": \"Product 7\", \"image\": \"http://127.0.0.1:8000/static/logo.jpeg\", \"description\": \"Description of Product 7\", \"category\" : \"Blazers\",\"color\":\"White\"},\n",
    "    {\"id\": 8, \"name\": \"Product 8\", \"image\": \"http://127.0.0.1:8000/static/logo.jpeg\", \"description\": \"Description of Product 8\", \"category\" : \"Dress Shirts\",\"color\":\"White\"},\n",
    "    {\"id\": 9, \"name\": \"Product 9\", \"image\": \"http://127.0.0.1:8000/static/logo.jpeg\", \"description\": \"Description of Product 9\", \"category\" : \"Casual Long Sleeve Shirts\",\"color\":\"White\"},\n",
    "    {\"id\": 10, \"name\": \"Product 10\", \"image\": \"http://127.0.0.1:8000/static/logo.jpeg\", \"description\": \"Description of Product 10\",\"category\" : \"Casual Short Sleeve Shirts\",\"color\":\"White\"},\n",
    "    {\"id\": 11, \"name\": \"Product 11\", \"image\": \"http://127.0.0.1:8000/static/logo.jpeg\", \"description\": \"Description of Product 5\", \"category\" : \"Casual Pants\",\"color\":\"White\"},\n",
    "    {\"id\": 12, \"name\": \"Product 12\", \"image\": \"http://127.0.0.1:8000/static/logo.jpeg\", \"description\": \"Description of Product 6\", \"category\" : \"Shoes\",\"color\":\"White\"},\n",
    "]\n",
    "\n",
    "new_arrivals = [\n",
    "    {\"id\": 1, \"name\": \"Dress Suit\", \"image\": \"http://127.0.0.1:8000/static/logo.jpeg\", \"description\": \"Description of Product 1\", \"category\" : \"Dress Suit\", \"color\":\"White\"},\n",
    "    {\"id\": 2, \"name\": \"Dress Suit\", \"image\": \"http://127.0.0.1:8000/static/logo.jpeg\", \"description\": \"Description of Product 2\", \"category\" : \"Dress Suit\", \"color\":\"Green\"},\n",
    "    {\"id\": 3, \"name\": \"Dress Suit\", \"image\": \"http://127.0.0.1:8000/static/logo.jpeg\", \"description\": \"Description of Product 3\", \"category\" : \"Dress Suit\", \"color\":\"Blue\"},\n",
    "    {\"id\": 4, \"name\": \"Tuxedo\", \"image\": \"http://127.0.0.1:8000/static/logo.jpeg\", \"description\": \"Description of Product 4\", \"category\" : \"Tuxedo\",\"color\":\"White\"},\n",
    "    {\"id\": 5, \"name\": \"Tuxedo\", \"image\": \"http://127.0.0.1:8000/static/logo.jpeg\", \"description\": \"Description of Product 5\", \"category\" : \"Tuxedo\",\"color\":\"White\"},\n",
    "    {\"id\": 6, \"name\": \"Tuxedo\", \"image\": \"http://127.0.0.1:8000/static/logo.jpeg\", \"description\": \"Description of Product 6\", \"category\" : \"Tuxedo\",\"color\":\"White\"},\n",
    "]\n",
    "\n",
    "app.mount(\"/static\", StaticFiles(directory=\"static\"), name=\"static\")\n",
    "\n",
    "# Route to get all products\n",
    "@app.get(\"/products\", response_model=List[Product])\n",
    "async def get_products():\n",
    "    return products\n",
    "\n",
    "\n",
    "@app.get(\"/new_arrivals\", response_model=List[Product])\n",
    "async def get_products():\n",
    "    return new_arrivals\n",
    "\n",
    "\n",
    "# Route to get a single product by ID\n",
    "@app.get(\"/products/{product_id}\", response_model=Product)\n",
    "async def get_product(product_id: int):\n",
    "    product = next((p for p in products if p[\"id\"] == product_id), None)\n",
    "    if product:\n",
    "        return product\n",
    "    else:\n",
    "        raise HTTPException(status_code=404, detail=\"Product not found\")\n",
    "\n",
    "if __name__ == \"__main__\":\n",
    "    config = uvicorn.Config(app)\n",
    "    server = uvicorn.Server(config)\n",
    "    await server.serve()"
   ]
  },
  {
   "cell_type": "code",
   "execution_count": null,
   "id": "0b54addf",
   "metadata": {},
   "outputs": [],
   "source": []
  },
  {
   "cell_type": "code",
   "execution_count": null,
   "id": "5ed098d3",
   "metadata": {},
   "outputs": [],
   "source": []
  }
 ],
 "metadata": {
  "kernelspec": {
   "display_name": "Python 3 (ipykernel)",
   "language": "python",
   "name": "python3"
  },
  "language_info": {
   "codemirror_mode": {
    "name": "ipython",
    "version": 3
   },
   "file_extension": ".py",
   "mimetype": "text/x-python",
   "name": "python",
   "nbconvert_exporter": "python",
   "pygments_lexer": "ipython3",
   "version": "3.11.1"
  }
 },
 "nbformat": 4,
 "nbformat_minor": 5
}
